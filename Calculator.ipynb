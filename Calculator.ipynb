{
 "cells": [
  {
   "cell_type": "markdown",
   "metadata": {},
   "source": [
    "# Atividade Calculadora + GitHub"
   ]
  },
  {
   "cell_type": "markdown",
   "metadata": {},
   "source": [
    "Author:\n",
    "- Henrique Trivelato de Angelo"
   ]
  },
  {
   "cell_type": "markdown",
   "metadata": {},
   "source": [
    "---------------------------------------------------------------------------------"
   ]
  },
  {
   "cell_type": "markdown",
   "metadata": {},
   "source": [
    "Importando Bibliotecas"
   ]
  },
  {
   "cell_type": "code",
   "execution_count": 83,
   "metadata": {},
   "outputs": [],
   "source": [
    "import numpy as np"
   ]
  },
  {
   "cell_type": "markdown",
   "metadata": {},
   "source": [
    "---------------------------------------------------------------------------------"
   ]
  },
  {
   "cell_type": "code",
   "execution_count": 84,
   "metadata": {},
   "outputs": [],
   "source": [
    "def negativeCheck(number):\n",
    "    if(number[0] == '-'):\n",
    "        return True\n",
    "    return False"
   ]
  },
  {
   "cell_type": "code",
   "execution_count": 85,
   "metadata": {},
   "outputs": [],
   "source": [
    "def segundaStringVazia(string):\n",
    "    if(string == \"\"):\n",
    "        return True\n",
    "    return False"
   ]
  },
  {
   "cell_type": "markdown",
   "metadata": {},
   "source": [
    "number[n:m] \\\n",
    "Link-> <https://stackoverflow.com/questions/41988846/returning-everything-but-the-first-letter-of-a-string-in-python>\n",
    "\n",
    "Split() method \\\n",
    "Link -> <https://www.freecodecamp.org/news/how-to-parse-a-string-in-python/>\n",
    "\n",
    "isnumeric() \\\n",
    "Link -> <https://note.nkmk.me/en/python-str-num-determine/>"
   ]
  },
  {
   "cell_type": "code",
   "execution_count": 86,
   "metadata": {},
   "outputs": [],
   "source": [
    "def numberCheck(number):\n",
    "    eh_negativo = negativeCheck(number)\n",
    "\n",
    "    if(eh_negativo == True):\n",
    "        number = number[1:]   # Retirando o sinal '-'\n",
    "        # print(number)\n",
    "\n",
    "    eh_numeric = number.isnumeric()\n",
    "\n",
    "    # Se não for numerico, quebra em 2 substrings a partir do char '.'\n",
    "    if(eh_numeric == False):\n",
    "        substrings = number.split(\".\", 1)   # quebra a String no maximo 1 vez (1 quebra = substrings)\n",
    "                                            #                                 (2 quebras = 3 substrings)\n",
    "\n",
    "        sub1_eh_numeric = substrings[0].isnumeric()\n",
    "        sub2_eh_numeric = substrings[1].isnumeric()\n",
    "\n",
    "        # Se a 2a string for vazia, logo eh um numero decimal\n",
    "        if(sub2_eh_numeric == False):\n",
    "            sub2_eh_numeric = segundaStringVazia(substrings[1])\n",
    "\n",
    "        # True -> É numero decimal\n",
    "        # False -> Não é número\n",
    "        return (sub1_eh_numeric and sub2_eh_numeric)\n",
    "    # Fim if()\n",
    "\n",
    "    # É numero (mas nao eh numero decimal)\n",
    "    return eh_numeric"
   ]
  },
  {
   "cell_type": "code",
   "execution_count": 87,
   "metadata": {},
   "outputs": [],
   "source": [
    "def checkOperacao(operacao):\n",
    "\n",
    "    if(operacao == \"+\"):\n",
    "        return True\n",
    "    \n",
    "    if(operacao == \"-\"):\n",
    "        return True\n",
    "    \n",
    "    if(operacao == \"*\"):\n",
    "        return True\n",
    "    \n",
    "    if(operacao == \"/\"):\n",
    "        return True\n",
    "    \n",
    "    if(operacao == \"^\"):\n",
    "        return True\n",
    "    \n",
    "    return False"
   ]
  },
  {
   "cell_type": "code",
   "execution_count": 88,
   "metadata": {},
   "outputs": [],
   "source": [
    "def calculadora(elemento_1, elemento_2, operacao):\n",
    "    val_1 = str(elemento_1)\n",
    "    val_2 = str(elemento_2)\n",
    "\n",
    "    if(numberCheck(val_1) == False):\n",
    "        return None\n",
    "    \n",
    "    if(numberCheck(val_2) == False):\n",
    "        return None\n",
    "    \n",
    "    if(checkOperacao(operacao) == False):\n",
    "        return None\n",
    "    \n",
    "    # Operação e números válidos\n",
    "    var1 = float(val_1)\n",
    "    var2 = float(val_2)\n",
    "\n",
    "    if(operacao == \"+\"):\n",
    "        return var1 + var2\n",
    "    \n",
    "    if(operacao == \"-\"):\n",
    "        return var1 - var2\n",
    "    \n",
    "    if(operacao == \"*\"):\n",
    "        return var1 * var2\n",
    "    \n",
    "    if(operacao == \"/\"):\n",
    "\n",
    "        if(var2 == 0):\n",
    "            return None\n",
    "        return var1 / var2\n",
    "    \n",
    "    if(operacao == \"^\"):\n",
    "        return pow(var1,var2)"
   ]
  },
  {
   "cell_type": "code",
   "execution_count": 94,
   "metadata": {},
   "outputs": [
    {
     "data": {
      "text/plain": [
       "-6.7"
      ]
     },
     "execution_count": 94,
     "metadata": {},
     "output_type": "execute_result"
    }
   ],
   "source": [
    "elemento_1 = \"-1.7\"\n",
    "elemento_2 = \"-5.\"\n",
    "operation = \"+\"\n",
    "\n",
    "calculadora(elemento_1, elemento_2, operation)"
   ]
  }
 ],
 "metadata": {
  "kernelspec": {
   "display_name": ".venv",
   "language": "python",
   "name": "python3"
  },
  "language_info": {
   "codemirror_mode": {
    "name": "ipython",
    "version": 3
   },
   "file_extension": ".py",
   "mimetype": "text/x-python",
   "name": "python",
   "nbconvert_exporter": "python",
   "pygments_lexer": "ipython3",
   "version": "3.12.4"
  }
 },
 "nbformat": 4,
 "nbformat_minor": 2
}
